{
 "cells": [
  {
   "cell_type": "code",
   "execution_count": 1,
   "metadata": {
    "scrolled": false
   },
   "outputs": [],
   "source": [
    "import json\n",
    "import os\n",
    "from glob import glob\n",
    "def process_document(file_path, output_dir):\n",
    "    '''\n",
    "    process each document under pmc_json\n",
    "    '''\n",
    "    os.makedirs(output_dir, exist_ok=True)\n",
    "    file_name = file_path.split('/')[-1].split('.')[0]\n",
    "    with open(file_path,'r') as f:\n",
    "        document = json.loads(f.read())\n",
    "    \n",
    "    for sent_id, sentence in enumerate(document['body_text']):\n",
    "        # ignore these sections\n",
    "        if sentence['section'] not in ['Introduction','Concluding remark','Conclusion']:\n",
    "            with open(f'{output_dir}/{file_name}-{sent_id}.txt', 'w') as f:\n",
    "                f.write(sentence['text'])"
   ]
  },
  {
   "cell_type": "code",
   "execution_count": 2,
   "metadata": {},
   "outputs": [],
   "source": [
    "for file_path in glob('custom_license/custom_license/pmc_json/*'):\n",
    "    process_document(file_path, 'genia_cord_19')"
   ]
  }
 ],
 "metadata": {
  "kernelspec": {
   "display_name": "Python 3",
   "language": "python",
   "name": "python3"
  },
  "language_info": {
   "codemirror_mode": {
    "name": "ipython",
    "version": 3
   },
   "file_extension": ".py",
   "mimetype": "text/x-python",
   "name": "python",
   "nbconvert_exporter": "python",
   "pygments_lexer": "ipython3",
   "version": "3.6.10"
  }
 },
 "nbformat": 4,
 "nbformat_minor": 4
}
