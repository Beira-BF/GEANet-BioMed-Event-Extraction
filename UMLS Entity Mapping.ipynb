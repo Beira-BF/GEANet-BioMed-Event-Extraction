{
 "cells": [
  {
   "cell_type": "markdown",
   "metadata": {},
   "source": [
    "## Task description\n",
    "\n",
    "For each of the .txt file under _genia_cord_19_ , generate protein annotation __.a1__ file in accordance with GENIA's format. Below gives you an example as in how to get process the MetaMap output. You should collect entities whose semantic type (STY) is __Amino Acid, Peptide, or Protein__ (notice that this is one type not three different type). \n",
    "\n",
    "You may want to refer to `MRCONSO.RRF` file in UMLS to get the mapping from concep id (CUI) to STY if you cannot get STY directly from metamap output.\n",
    "\n",
    "You may also want to try `echo {sentence} | metamap --I` in the terminal just to give a brief understanding of the metamap output.\n"
   ]
  },
  {
   "cell_type": "code",
   "execution_count": null,
   "metadata": {},
   "outputs": [],
   "source": [
    "import numpy as np\n",
    "import pandas as pd\n",
    "from glob import glob\n",
    "import os\n",
    "import re\n",
    "import pickle\n",
    "import itertools\n",
    "from collections import defaultdict"
   ]
  },
  {
   "cell_type": "code",
   "execution_count": null,
   "metadata": {},
   "outputs": [],
   "source": [
    "def process_output(output):\n",
    "    '''\n",
    "    args:\n",
    "        output: dict, output from metamap\n",
    "    returns:\n",
    "        candidates: \n",
    "    '''\n",
    "\n",
    "    phrases = output['AllDocuments'][0]['Document']['Utterances'][0]['Phrases']\n",
    "    \n",
    "    # stores all the mapped entities\n",
    "    candidates = []    \n",
    "    for phrase in phrases:\n",
    "        \n",
    "        # starting position for this phrase\n",
    "        phrase_start_pos = int(phrase['PhraseStartPos'])\n",
    "        \n",
    "        \n",
    "        if len(phrase['Mappings']) == 0:\n",
    "            continue\n",
    "        # get the first mapping \n",
    "        mapping = phrase['Mappings'][0]\n",
    "\n",
    "    \n",
    "        for candidate in mapping['MappingCandidates']:\n",
    "            score = -int(candidate['CandidateScore'])\n",
    "\n",
    "            # only append\n",
    "            candidates.append(\n",
    "                {\n",
    "                    'CUI': candidate['CandidateCUI'],\n",
    "                    'StartPos': int(candidate['ConceptPIs'][0]['StartPos']),\n",
    "                    'CandidatePreferred': candidate['CandidatePreferred']\n",
    "                }\n",
    "            )\n",
    "        \n",
    "\n",
    "    return candidates\n"
   ]
  },
  {
   "cell_type": "code",
   "execution_count": null,
   "metadata": {},
   "outputs": [],
   "source": [
    "import subprocess\n",
    "import json\n",
    "def get_metamap_output(sentence):\n",
    "    '''\n",
    "    Given a sentence return the metamap best matching result (score, ID, term)\n",
    "    sentence: str\n",
    "    \n",
    "    '''\n",
    "    p = subprocess.Popen(f\"echo {sentence} | metamap --JSONn --I\", stdout=subprocess.PIPE, shell=True)\n",
    "    output, err = p.communicate()\n",
    "    output = str(output, 'utf-8')\n",
    "\n",
    "    output = output.split('\\n')\n",
    "    \n",
    "    # no mapped entities\n",
    "    if len(output) < 2:\n",
    "        return None\n",
    "    try:\n",
    "        output = json.loads(output[1])\n",
    "        output = process_output(output)\n",
    "        return output       \n",
    "    # JSON Decoder\n",
    "    except:\n",
    "        return None\n",
    "\n",
    "\n",
    "    "
   ]
  },
  {
   "cell_type": "code",
   "execution_count": null,
   "metadata": {},
   "outputs": [],
   "source": []
  }
 ],
 "metadata": {
  "kernelspec": {
   "display_name": "Python 3",
   "language": "python",
   "name": "python3"
  },
  "language_info": {
   "codemirror_mode": {
    "name": "ipython",
    "version": 3
   },
   "file_extension": ".py",
   "mimetype": "text/x-python",
   "name": "python",
   "nbconvert_exporter": "python",
   "pygments_lexer": "ipython3",
   "version": "3.6.10"
  }
 },
 "nbformat": 4,
 "nbformat_minor": 4
}
